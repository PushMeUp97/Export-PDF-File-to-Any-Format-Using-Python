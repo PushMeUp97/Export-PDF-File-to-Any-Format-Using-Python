{
 "cells": [
  {
   "cell_type": "code",
   "execution_count": null,
   "id": "86b4e6d8-26fa-4613-9de2-1ac2a54aae7d",
   "metadata": {},
   "outputs": [],
   "source": [
    "import aspose.words as aw\n",
    "\n",
    "# Load the PDF document from the disc\n",
    "doc = aw.Document(\"C:\\\\Users\\\\Locas\\\\Desktop\\\\FileTestCodex\\\\Export PDF to any format\\\\Test 01.pdf\")\n",
    "\n",
    "# Save the document to any format\n",
    "doc.save(\"PDF2PNG.png\")"
   ]
  }
 ],
 "metadata": {
  "kernelspec": {
   "display_name": "Python 3 (ipykernel)",
   "language": "python",
   "name": "python3"
  },
  "language_info": {
   "codemirror_mode": {
    "name": "ipython",
    "version": 3
   },
   "file_extension": ".py",
   "mimetype": "text/x-python",
   "name": "python",
   "nbconvert_exporter": "python",
   "pygments_lexer": "ipython3",
   "version": "3.12.6"
  }
 },
 "nbformat": 4,
 "nbformat_minor": 5
}
